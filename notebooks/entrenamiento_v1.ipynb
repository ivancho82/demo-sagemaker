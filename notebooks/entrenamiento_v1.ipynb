{
 "cells": [
  {
   "cell_type": "markdown",
   "metadata": {},
   "source": [
    "# Crear y ejecutar un trabajo de entrenamiento (SDK de Python de Amazon SageMaker)\n",
    "\n",
    "El SDK de Python de Amazon SageMaker incluye el estimador sagemaker.estimator.Estimator. Puede utilizar esta clase, en el módulo sagemaker.estimator, con cualquier algoritmo."
   ]
  },
  {
   "cell_type": "code",
   "execution_count": 2,
   "metadata": {},
   "outputs": [],
   "source": [
    "import sagemaker\n",
    "import boto3\n",
    "from sagemaker.amazon.amazon_estimator import get_image_uri\n",
    "from sagemaker import get_execution_role"
   ]
  },
  {
   "cell_type": "code",
   "execution_count": 10,
   "metadata": {},
   "outputs": [],
   "source": [
    "role = get_execution_role() #get_execution_role recupera el rol de IAM que creó durante la creación de la instancia de notebooks\n",
    "region = boto3.Session().region_name\n",
    "bucket= 'lbk-analytics-dev' # Replace with your s3 bucket name\n",
    "prefix = 'sagemaker/xgboost-mnist' # Used as part of the path in the bucket where you store data"
   ]
  },
  {
   "cell_type": "code",
   "execution_count": 11,
   "metadata": {},
   "outputs": [
    {
     "name": "stderr",
     "output_type": "stream",
     "text": [
      "'get_image_uri' method will be deprecated in favor of 'ImageURIProvider' class in SageMaker Python SDK v2.\n"
     ]
    }
   ],
   "source": [
    "container = get_image_uri(boto3.Session().region_name, 'xgboost' , '1.0-1')"
   ]
  },
  {
   "cell_type": "code",
   "execution_count": 12,
   "metadata": {},
   "outputs": [
    {
     "name": "stdout",
     "output_type": "stream",
     "text": [
      "s3://lbk-analytics-dev/sagemaker/xgboost-mnist/train\n"
     ]
    }
   ],
   "source": [
    "train_data = 's3://{}/{}/{}' .format(bucket, prefix, 'train' )\n",
    "validation_data = 's3://{}/{}/{}' .format(bucket, prefix, 'validation' )\n",
    "s3_output_location = 's3://{}/{}/{}' .format(bucket, prefix,'xgboost_model_sdk' )\n",
    "print(train_data)"
   ]
  },
  {
   "cell_type": "code",
   "execution_count": 13,
   "metadata": {},
   "outputs": [
    {
     "name": "stderr",
     "output_type": "stream",
     "text": [
      "Parameter image_name will be renamed to image_uri in SageMaker Python SDK v2.\n"
     ]
    }
   ],
   "source": [
    "xgb_model = sagemaker.estimator.Estimator(container, \n",
    "                                            role,#rol para ejecutar la tarea\n",
    "                                            train_instance_count= 1 , # numero de instancias para entrenamiento \n",
    "                                            train_instance_type= 'ml.m4.xlarge' , #tipo de la instancia\n",
    "                                            train_volume_size = 5 , #tamaño en GB de EBS\n",
    "                                            output_path=s3_output_location, # ruta de salida de resultados\n",
    "                                            sagemaker_session=sagemaker.Session())"
   ]
  },
  {
   "cell_type": "code",
   "execution_count": 14,
   "metadata": {},
   "outputs": [],
   "source": [
    "#hiperparametros\n",
    "xgb_model.set_hyperparameters(max_depth = 5 ,\n",
    "                                eta = .2 ,\n",
    "                                gamma = 4 ,\n",
    "                                min_child_weight = 6 ,\n",
    "                                silent = 0 ,\n",
    "                                objective = \"multi:softmax\" ,\n",
    "                                num_class = 10 ,\n",
    "                                num_round = 10 )"
   ]
  },
  {
   "cell_type": "code",
   "execution_count": 15,
   "metadata": {},
   "outputs": [
    {
     "name": "stderr",
     "output_type": "stream",
     "text": [
      "'s3_input' class will be renamed to 'TrainingInput' in SageMaker Python SDK v2.\n",
      "'s3_input' class will be renamed to 'TrainingInput' in SageMaker Python SDK v2.\n"
     ]
    },
    {
     "name": "stdout",
     "output_type": "stream",
     "text": [
      "2020-07-28 23:55:20 Starting - Starting the training job...\n",
      "2020-07-28 23:55:23 Starting - Launching requested ML instances......\n",
      "2020-07-28 23:56:41 Starting - Preparing the instances for training......\n",
      "2020-07-28 23:57:43 Downloading - Downloading input data......\n",
      "2020-07-28 23:58:52 Training - Downloading the training image...\n",
      "2020-07-28 23:59:11 Training - Training image download completed. Training in progress.\u001b[34mINFO:sagemaker-containers:Imported framework sagemaker_xgboost_container.training\u001b[0m\n",
      "\u001b[34mINFO:sagemaker-containers:Failed to parse hyperparameter objective value multi:softmax to Json.\u001b[0m\n",
      "\u001b[34mReturning the value itself\u001b[0m\n",
      "\u001b[34mINFO:sagemaker-containers:No GPUs detected (normal if no gpus installed)\u001b[0m\n",
      "\u001b[34mINFO:sagemaker_xgboost_container.training:Running XGBoost Sagemaker in algorithm mode\u001b[0m\n",
      "\u001b[34mINFO:root:Determined delimiter of CSV input is ','\u001b[0m\n",
      "\u001b[34mINFO:root:Determined delimiter of CSV input is ','\u001b[0m\n",
      "\u001b[34mINFO:root:Determined delimiter of CSV input is ','\u001b[0m\n",
      "\u001b[34mINFO:root:Determined delimiter of CSV input is ','\u001b[0m\n",
      "\u001b[34mINFO:root:Determined delimiter of CSV input is ','\u001b[0m\n",
      "\u001b[34m[23:59:30] 100000x784 matrix with 78400000 entries loaded from /opt/ml/input/data/train?format=csv&label_column=0&delimiter=,\u001b[0m\n",
      "\u001b[34mINFO:root:Determined delimiter of CSV input is ','\u001b[0m\n",
      "\u001b[34m[23:59:34] 20000x784 matrix with 15680000 entries loaded from /opt/ml/input/data/validation?format=csv&label_column=0&delimiter=,\u001b[0m\n",
      "\u001b[34mINFO:root:Single node training.\u001b[0m\n",
      "\u001b[34mINFO:root:Train matrix has 100000 rows\u001b[0m\n",
      "\u001b[34mINFO:root:Validation matrix has 20000 rows\u001b[0m\n",
      "\u001b[34m[23:59:34] WARNING: /workspace/src/learner.cc:328: \u001b[0m\n",
      "\u001b[34mParameters: { num_round, silent } might not be used.\n",
      "\n",
      "  This may not be accurate due to some parameters are only used in language bindings but\n",
      "  passed down to XGBoost core.  Or some parameters are not used but slip through this\n",
      "  verification. Please open an issue if you find above cases.\n",
      "\n",
      "\u001b[0m\n",
      "\u001b[34m[0]#011train-merror:0.16946#011validation-merror:0.16520\u001b[0m\n",
      "\u001b[34m[1]#011train-merror:0.12418#011validation-merror:0.12660\u001b[0m\n",
      "\u001b[34m[2]#011train-merror:0.11114#011validation-merror:0.11360\u001b[0m\n",
      "\u001b[34m[3]#011train-merror:0.09892#011validation-merror:0.10360\u001b[0m\n",
      "\u001b[34m[4]#011train-merror:0.09090#011validation-merror:0.09570\u001b[0m\n",
      "\u001b[34m[5]#011train-merror:0.08436#011validation-merror:0.09060\u001b[0m\n",
      "\u001b[34m[6]#011train-merror:0.08000#011validation-merror:0.08690\u001b[0m\n",
      "\u001b[34m[7]#011train-merror:0.07510#011validation-merror:0.08290\u001b[0m\n",
      "\n",
      "2020-07-29 00:01:46 Uploading - Uploading generated training model\n",
      "2020-07-29 00:01:46 Completed - Training job completed\n",
      "\u001b[34m[8]#011train-merror:0.07152#011validation-merror:0.07980\u001b[0m\n",
      "\u001b[34m[9]#011train-merror:0.06802#011validation-merror:0.07760\u001b[0m\n",
      "Training seconds: 243\n",
      "Billable seconds: 243\n"
     ]
    }
   ],
   "source": [
    "train_channel = sagemaker.session.s3_input(train_data,content_type= 'text/csv' )\n",
    "valid_channel = sagemaker.session.s3_input(validation_data,content_type= 'text/csv' )\n",
    "\n",
    "data_channels = { 'train' : train_channel, 'validation' : valid_channel}\n",
    "\n",
    "xgb_model.fit(inputs=data_channels, logs= True )\n",
    "\n"
   ]
  },
  {
   "cell_type": "markdown",
   "metadata": {},
   "source": [
    "# Implementar el modelo para servicios de alojamiento de Amazon SageMaker (SDK de Python de Amazon SageMaker)"
   ]
  },
  {
   "cell_type": "markdown",
   "metadata": {},
   "source": [
    "El método deploy crea el modelo que puede implementarse, configura el punto de enlace de los servicios de alojamiento de Amazon SageMaker y lanza el punto de enlace para alojar el modelo.\n",
    "También devuelve un objeto sagemaker.predictor.RealTimePredictor, que puede utilizar para obtener inferencias desde el modelo"
   ]
  },
  {
   "cell_type": "code",
   "execution_count": null,
   "metadata": {},
   "outputs": [],
   "source": [
    "xgb_predictor = xgb_model.deploy(initial_instance_count= 1 ,instance_type= 'ml.m4.xlarge',)"
   ]
  },
  {
   "cell_type": "markdown",
   "metadata": {},
   "source": [
    "# Implementar un modelo con la transformación por lotes (biblioteca de Python de alto nivel de Amazon SageMaker)\n",
    "El siguiente código crea un objeto sagemaker.transformer.Transformer del modelo que capacitó. A continuación, llama al método transform de ese objeto para crear un trabajo de transformación. Cuando se crea el objeto sagemaker.transformer.Transformer, especifique el número y el tipo de las instancias de aprendizaje automático que se va a utilizar para realizar el trabajo de transformación por lotes y la ubicación en Amazon S3 en la que desea almacenar las inferencias"
   ]
  },
  {
   "cell_type": "code",
   "execution_count": null,
   "metadata": {},
   "outputs": [],
   "source": [
    "batch_input = 's3://{}/{}/test/examples' .format(bucket, prefix) # The location of the test dataset\n",
    "batch_output = 's3://{}/{}/batch-inference' .format(bucket, prefix) # The location to store the results of the batch transform job\n",
    "\n",
    "transformer = xgb_model.transformer(instance_count= 1, instance_type= 'ml.m4.xlarge' , output_path=batch_output)\n",
    "transformer.transform(data=batch_input, data_type= 'S3Prefix', content_type= 'text/csv' , split_type= 'Line' )\n",
    "\n",
    "transformer.wait()"
   ]
  },
  {
   "cell_type": "markdown",
   "metadata": {},
   "source": [
    "# Validar un modelo implementado en los servicios de alojamiento de Amazon SageMaker (Amazon SageMaker SDK para Phyton)\n",
    "Para validar el modelo utilizando el Amazon SageMaker SDK para Python, utilice el objeto sagemaker.predictor.RealTimePredictor"
   ]
  },
  {
   "cell_type": "code",
   "execution_count": null,
   "metadata": {},
   "outputs": [],
   "source": [
    "s3 = boto3.resource( 's3' )\n",
    "test_key = \"{}/test/examples\" .format(prefix)\n",
    "s3.Bucket(bucket).download_file(test_key, 'test_data' )"
   ]
  },
  {
   "cell_type": "code",
   "execution_count": null,
   "metadata": {},
   "outputs": [],
   "source": [
    "%matplotlib inline\n",
    "for i in range ( 0 , 10 ):\n",
    "    img = test_set[ 0 ][i]\n",
    "    label = test_set[ 1 ][i]\n",
    "    img_reshape = img.reshape(( 28 , 28 ))\n",
    "    imgplot = plt.imshow(img_reshape, cmap= 'gray' )\n",
    "    print( 'This is a {}' .format(label))\n",
    "plt.show()"
   ]
  },
  {
   "cell_type": "code",
   "execution_count": null,
   "metadata": {},
   "outputs": [],
   "source": [
    "with open( 'test_data' , 'r' ) as f:\n",
    "    for j in range( 0 , 10 ):\n",
    "        single_test = f.readline()\n",
    "        result = xgb_predictor.predict(single_test)\n",
    "        print(result)"
   ]
  },
  {
   "cell_type": "code",
   "execution_count": null,
   "metadata": {},
   "outputs": [],
   "source": []
  },
  {
   "cell_type": "code",
   "execution_count": null,
   "metadata": {},
   "outputs": [],
   "source": []
  },
  {
   "cell_type": "code",
   "execution_count": null,
   "metadata": {},
   "outputs": [],
   "source": []
  },
  {
   "cell_type": "code",
   "execution_count": null,
   "metadata": {},
   "outputs": [],
   "source": []
  }
 ],
 "metadata": {
  "kernelspec": {
   "display_name": "conda_python3",
   "language": "python",
   "name": "conda_python3"
  },
  "language_info": {
   "codemirror_mode": {
    "name": "ipython",
    "version": 3
   },
   "file_extension": ".py",
   "mimetype": "text/x-python",
   "name": "python",
   "nbconvert_exporter": "python",
   "pygments_lexer": "ipython3",
   "version": "3.6.10"
  }
 },
 "nbformat": 4,
 "nbformat_minor": 4
}
