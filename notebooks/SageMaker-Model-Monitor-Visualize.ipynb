{
 "cells": [
  {
   "cell_type": "markdown",
   "metadata": {},
   "source": [
    "# SageMaker Model Monitor - visualizing monitoring results\n",
    "\n",
    "\n",
    "The prebuilt container from SageMaker computes a variety of statistics and evaluates constraints out of the box. This notebook demonstrates how you can visualize them. You can grab the ProcessingJob arn from the executions behind a MonitoringSchedule and use this notebook to visualize the results.\n",
    "\n",
    "Let's import some python libraries that will be helpful for visualization"
   ]
  },
  {
   "cell_type": "code",
   "execution_count": 1,
   "metadata": {},
   "outputs": [],
   "source": [
    "from IPython.display import HTML, display\n",
    "import json\n",
    "import os\n",
    "import boto3\n",
    "\n",
    "import sagemaker\n",
    "from sagemaker import session\n",
    "from sagemaker.model_monitor import MonitoringExecution\n",
    "from sagemaker.s3 import S3Downloader"
   ]
  },
  {
   "cell_type": "markdown",
   "metadata": {},
   "source": [
    "## Get Utilities for Rendering\n",
    "\n",
    "The functions for plotting and rendering distribution statistics or constraint violations are implemented in a `utils` file so let's grab that."
   ]
  },
  {
   "cell_type": "code",
   "execution_count": 2,
   "metadata": {},
   "outputs": [
    {
     "name": "stdout",
     "output_type": "stream",
     "text": [
      "--2020-08-26 17:57:16--  https://raw.githubusercontent.com/awslabs/amazon-sagemaker-examples/master/sagemaker_model_monitor/visualization/utils.py\n",
      "Resolving raw.githubusercontent.com (raw.githubusercontent.com)... 151.101.200.133\n",
      "Connecting to raw.githubusercontent.com (raw.githubusercontent.com)|151.101.200.133|:443... connected.\n",
      "HTTP request sent, awaiting response... 200 OK\n",
      "Length: 12655 (12K) [text/plain]\n",
      "Saving to: ‘utils.py’\n",
      "\n",
      "utils.py            100%[===================>]  12.36K  --.-KB/s    in 0s      \n",
      "\n",
      "2020-08-26 17:57:16 (91.2 MB/s) - ‘utils.py’ saved [12655/12655]\n",
      "\n"
     ]
    }
   ],
   "source": [
    "!wget https://raw.githubusercontent.com/awslabs/amazon-sagemaker-examples/master/sagemaker_model_monitor/visualization/utils.py\n",
    "\n",
    "import utils as mu"
   ]
  },
  {
   "cell_type": "markdown",
   "metadata": {},
   "source": [
    "## Get Execution and Baseline details from Processing Job Arn\n",
    "\n",
    "Enter the ProcessingJob arn for an execution of a MonitoringSchedule below to get the result files associated with that execution"
   ]
  },
  {
   "cell_type": "code",
   "execution_count": 3,
   "metadata": {},
   "outputs": [],
   "source": [
    "processing_job_arn = 'arn:aws:sagemaker:us-east-1:668153774979:processing-job/model-monitoring-202008261700-ac0fda7470a280e9979429f9' "
   ]
  },
  {
   "cell_type": "code",
   "execution_count": 4,
   "metadata": {},
   "outputs": [],
   "source": [
    "execution = MonitoringExecution.from_processing_arn(sagemaker_session=session.Session(), processing_job_arn=processing_job_arn)\n",
    "exec_inputs = {inp['InputName']: inp for inp in execution.describe()['ProcessingInputs']}\n",
    "exec_results = execution.output.destination"
   ]
  },
  {
   "cell_type": "code",
   "execution_count": 5,
   "metadata": {},
   "outputs": [],
   "source": [
    "baseline_statistics_filepath = exec_inputs['baseline']['S3Input']['S3Uri'] if 'baseline' in exec_inputs else None\n",
    "execution_statistics_filepath = os.path.join(exec_results, 'statistics.json')\n",
    "violations_filepath = os.path.join(exec_results, 'constraint_violations.json')\n",
    "\n",
    "baseline_statistics = json.loads(S3Downloader.read_file(baseline_statistics_filepath)) if baseline_statistics_filepath is not None else None\n",
    "execution_statistics = json.loads(S3Downloader.read_file(execution_statistics_filepath))\n",
    "violations = json.loads(S3Downloader.read_file(violations_filepath))['violations']"
   ]
  },
  {
   "cell_type": "markdown",
   "metadata": {},
   "source": [
    "## Overview\n",
    "\n",
    "The code below shows the violations and constraint checks across all features in a simple table."
   ]
  },
  {
   "cell_type": "code",
   "execution_count": 6,
   "metadata": {},
   "outputs": [
    {
     "data": {
      "text/html": [
       "<style  type=\"text/css\" >\n",
       "    #T_9a189dde_e7c5_11ea_8beb_152e32de7895row0_col0 {\n",
       "            background-color:  white;\n",
       "            : ;\n",
       "            : ;\n",
       "        }    #T_9a189dde_e7c5_11ea_8beb_152e32de7895row0_col1 {\n",
       "            background-color:  white;\n",
       "            : ;\n",
       "            : ;\n",
       "        }    #T_9a189dde_e7c5_11ea_8beb_152e32de7895row0_col2 {\n",
       "            background-color:  white;\n",
       "            : ;\n",
       "            : ;\n",
       "        }    #T_9a189dde_e7c5_11ea_8beb_152e32de7895row0_col3 {\n",
       "            background-color:  white;\n",
       "            : ;\n",
       "            : ;\n",
       "        }    #T_9a189dde_e7c5_11ea_8beb_152e32de7895row1_col0 {\n",
       "            background-color:  white;\n",
       "            : ;\n",
       "            : ;\n",
       "        }    #T_9a189dde_e7c5_11ea_8beb_152e32de7895row1_col1 {\n",
       "            background-color:  white;\n",
       "            : ;\n",
       "            : ;\n",
       "        }    #T_9a189dde_e7c5_11ea_8beb_152e32de7895row1_col2 {\n",
       "            background-color:  white;\n",
       "            : ;\n",
       "            : ;\n",
       "        }    #T_9a189dde_e7c5_11ea_8beb_152e32de7895row1_col3 {\n",
       "            background-color:  white;\n",
       "            : ;\n",
       "            : ;\n",
       "        }    #T_9a189dde_e7c5_11ea_8beb_152e32de7895row2_col0 {\n",
       "            background-color:  white;\n",
       "            : ;\n",
       "            : ;\n",
       "        }    #T_9a189dde_e7c5_11ea_8beb_152e32de7895row2_col1 {\n",
       "            background-color:  white;\n",
       "            : ;\n",
       "            : ;\n",
       "        }    #T_9a189dde_e7c5_11ea_8beb_152e32de7895row2_col2 {\n",
       "            background-color:  white;\n",
       "            : ;\n",
       "            : ;\n",
       "        }    #T_9a189dde_e7c5_11ea_8beb_152e32de7895row2_col3 {\n",
       "            background-color:  white;\n",
       "            : ;\n",
       "            : ;\n",
       "        }    #T_9a189dde_e7c5_11ea_8beb_152e32de7895row3_col0 {\n",
       "            background-color:  white;\n",
       "            background-color:  #fff7dc;\n",
       "            : ;\n",
       "        }    #T_9a189dde_e7c5_11ea_8beb_152e32de7895row3_col1 {\n",
       "            background-color:  white;\n",
       "            background-color:  #fff7dc;\n",
       "            : ;\n",
       "        }    #T_9a189dde_e7c5_11ea_8beb_152e32de7895row3_col2 {\n",
       "            background-color:  white;\n",
       "            background-color:  #fff7dc;\n",
       "            background-color:  orange;\n",
       "        }    #T_9a189dde_e7c5_11ea_8beb_152e32de7895row3_col3 {\n",
       "            background-color:  white;\n",
       "            background-color:  #fff7dc;\n",
       "            : ;\n",
       "        }</style><table id=\"T_9a189dde_e7c5_11ea_8beb_152e32de7895\" ><thead>    <tr>        <th class=\"blank level0\" ></th>        <th class=\"col_heading level0 col0\" >data_type</th>        <th class=\"col_heading level0 col1\" >completeness</th>        <th class=\"col_heading level0 col2\" >baseline_drift</th>        <th class=\"col_heading level0 col3\" >categorical_values</th>    </tr></thead><tbody>\n",
       "                <tr>\n",
       "                        <th id=\"T_9a189dde_e7c5_11ea_8beb_152e32de7895level0_row0\" class=\"row_heading level0 row0\" >edad</th>\n",
       "                        <td id=\"T_9a189dde_e7c5_11ea_8beb_152e32de7895row0_col0\" class=\"data row0 col0\" >Integral</td>\n",
       "                        <td id=\"T_9a189dde_e7c5_11ea_8beb_152e32de7895row0_col1\" class=\"data row0 col1\" >100.00%</td>\n",
       "                        <td id=\"T_9a189dde_e7c5_11ea_8beb_152e32de7895row0_col2\" class=\"data row0 col2\" >N/A</td>\n",
       "                        <td id=\"T_9a189dde_e7c5_11ea_8beb_152e32de7895row0_col3\" class=\"data row0 col3\" >N/A</td>\n",
       "            </tr>\n",
       "            <tr>\n",
       "                        <th id=\"T_9a189dde_e7c5_11ea_8beb_152e32de7895level0_row1\" class=\"row_heading level0 row1\" >edad_salario</th>\n",
       "                        <td id=\"T_9a189dde_e7c5_11ea_8beb_152e32de7895row1_col0\" class=\"data row1 col0\" >Integral</td>\n",
       "                        <td id=\"T_9a189dde_e7c5_11ea_8beb_152e32de7895row1_col1\" class=\"data row1 col1\" >100.00%</td>\n",
       "                        <td id=\"T_9a189dde_e7c5_11ea_8beb_152e32de7895row1_col2\" class=\"data row1 col2\" >N/A</td>\n",
       "                        <td id=\"T_9a189dde_e7c5_11ea_8beb_152e32de7895row1_col3\" class=\"data row1 col3\" >N/A</td>\n",
       "            </tr>\n",
       "            <tr>\n",
       "                        <th id=\"T_9a189dde_e7c5_11ea_8beb_152e32de7895level0_row2\" class=\"row_heading level0 row2\" >salario</th>\n",
       "                        <td id=\"T_9a189dde_e7c5_11ea_8beb_152e32de7895row2_col0\" class=\"data row2 col0\" >Integral</td>\n",
       "                        <td id=\"T_9a189dde_e7c5_11ea_8beb_152e32de7895row2_col1\" class=\"data row2 col1\" >100.00%</td>\n",
       "                        <td id=\"T_9a189dde_e7c5_11ea_8beb_152e32de7895row2_col2\" class=\"data row2 col2\" >N/A</td>\n",
       "                        <td id=\"T_9a189dde_e7c5_11ea_8beb_152e32de7895row2_col3\" class=\"data row2 col3\" >N/A</td>\n",
       "            </tr>\n",
       "            <tr>\n",
       "                        <th id=\"T_9a189dde_e7c5_11ea_8beb_152e32de7895level0_row3\" class=\"row_heading level0 row3\" >valor_gasto</th>\n",
       "                        <td id=\"T_9a189dde_e7c5_11ea_8beb_152e32de7895row3_col0\" class=\"data row3 col0\" >Fractional</td>\n",
       "                        <td id=\"T_9a189dde_e7c5_11ea_8beb_152e32de7895row3_col1\" class=\"data row3 col1\" >100.00%</td>\n",
       "                        <td id=\"T_9a189dde_e7c5_11ea_8beb_152e32de7895row3_col2\" class=\"data row3 col2\" >14.01%</td>\n",
       "                        <td id=\"T_9a189dde_e7c5_11ea_8beb_152e32de7895row3_col3\" class=\"data row3 col3\" >N/A</td>\n",
       "            </tr>\n",
       "    </tbody></table>"
      ],
      "text/plain": [
       "<pandas.io.formats.style.Styler at 0x7fc69fca7950>"
      ]
     },
     "execution_count": 6,
     "metadata": {},
     "output_type": "execute_result"
    }
   ],
   "source": [
    "mu.show_violation_df(baseline_statistics=baseline_statistics, latest_statistics=execution_statistics, violations=violations)"
   ]
  },
  {
   "cell_type": "markdown",
   "metadata": {},
   "source": [
    "## Distributions\n",
    "\n",
    "This section visualizes the distribution and renders the distribution statistics for all features"
   ]
  },
  {
   "cell_type": "code",
   "execution_count": 7,
   "metadata": {},
   "outputs": [],
   "source": [
    "features = mu.get_features(execution_statistics)\n",
    "feature_baselines = mu.get_features(baseline_statistics)"
   ]
  },
  {
   "cell_type": "code",
   "execution_count": 8,
   "metadata": {},
   "outputs": [
    {
     "data": {
      "text/html": [
       "<h3>Numerical Features</h3>"
      ],
      "text/plain": [
       "<IPython.core.display.HTML object>"
      ]
     },
     "metadata": {},
     "output_type": "display_data"
    },
    {
     "data": {
      "text/html": [
       "<div>\n",
       "<style scoped>\n",
       "    .dataframe tbody tr th:only-of-type {\n",
       "        vertical-align: middle;\n",
       "    }\n",
       "\n",
       "    .dataframe tbody tr th {\n",
       "        vertical-align: top;\n",
       "    }\n",
       "\n",
       "    .dataframe thead th {\n",
       "        text-align: right;\n",
       "    }\n",
       "</style>\n",
       "<table border=\"1\" class=\"dataframe\">\n",
       "  <thead>\n",
       "    <tr style=\"text-align: right;\">\n",
       "      <th></th>\n",
       "      <th>num_present</th>\n",
       "      <th>num_missing</th>\n",
       "      <th>mean</th>\n",
       "      <th>sum</th>\n",
       "      <th>std_dev</th>\n",
       "      <th>min</th>\n",
       "      <th>max</th>\n",
       "    </tr>\n",
       "  </thead>\n",
       "  <tbody>\n",
       "    <tr>\n",
       "      <th>valor_gasto</th>\n",
       "      <td>2001</td>\n",
       "      <td>0</td>\n",
       "      <td>5.117489e+05</td>\n",
       "      <td>1.024009e+09</td>\n",
       "      <td>1.646744e+05</td>\n",
       "      <td>6.327019e+04</td>\n",
       "      <td>1.855736e+06</td>\n",
       "    </tr>\n",
       "    <tr>\n",
       "      <th>edad</th>\n",
       "      <td>2001</td>\n",
       "      <td>0</td>\n",
       "      <td>4.135732e+01</td>\n",
       "      <td>8.275600e+04</td>\n",
       "      <td>1.103557e+01</td>\n",
       "      <td>2.000000e+01</td>\n",
       "      <td>7.600000e+01</td>\n",
       "    </tr>\n",
       "    <tr>\n",
       "      <th>salario</th>\n",
       "      <td>2001</td>\n",
       "      <td>0</td>\n",
       "      <td>2.748007e+06</td>\n",
       "      <td>5.498762e+09</td>\n",
       "      <td>2.137670e+06</td>\n",
       "      <td>1.401100e+06</td>\n",
       "      <td>2.866000e+07</td>\n",
       "    </tr>\n",
       "    <tr>\n",
       "      <th>edad_salario</th>\n",
       "      <td>2001</td>\n",
       "      <td>0</td>\n",
       "      <td>1.170405e+08</td>\n",
       "      <td>2.341981e+11</td>\n",
       "      <td>1.057293e+08</td>\n",
       "      <td>3.080000e+07</td>\n",
       "      <td>1.518000e+09</td>\n",
       "    </tr>\n",
       "  </tbody>\n",
       "</table>\n",
       "</div>"
      ],
      "text/plain": [
       "              num_present  num_missing          mean           sum  \\\n",
       "valor_gasto          2001            0  5.117489e+05  1.024009e+09   \n",
       "edad                 2001            0  4.135732e+01  8.275600e+04   \n",
       "salario              2001            0  2.748007e+06  5.498762e+09   \n",
       "edad_salario         2001            0  1.170405e+08  2.341981e+11   \n",
       "\n",
       "                   std_dev           min           max  \n",
       "valor_gasto   1.646744e+05  6.327019e+04  1.855736e+06  \n",
       "edad          1.103557e+01  2.000000e+01  7.600000e+01  \n",
       "salario       2.137670e+06  1.401100e+06  2.866000e+07  \n",
       "edad_salario  1.057293e+08  3.080000e+07  1.518000e+09  "
      ]
     },
     "metadata": {},
     "output_type": "display_data"
    },
    {
     "data": {
      "image/png": "[encoded data removed]",
      "text/plain": [
       "<Figure size 1440x288 with 5 Axes>"
      ]
     },
     "metadata": {
      "needs_background": "light"
     },
     "output_type": "display_data"
    }
   ],
   "source": [
    "mu.show_distributions(features)"
   ]
  },
  {
   "cell_type": "markdown",
   "metadata": {},
   "source": [
    "### Execution Stats vs Baseline"
   ]
  },
  {
   "cell_type": "code",
   "execution_count": 9,
   "metadata": {},
   "outputs": [
    {
     "data": {
      "text/html": [
       "<h3>Numerical Features</h3>"
      ],
      "text/plain": [
       "<IPython.core.display.HTML object>"
      ]
     },
     "metadata": {},
     "output_type": "display_data"
    },
    {
     "data": {
      "text/html": [
       "<div>\n",
       "<style scoped>\n",
       "    .dataframe tbody tr th:only-of-type {\n",
       "        vertical-align: middle;\n",
       "    }\n",
       "\n",
       "    .dataframe tbody tr th {\n",
       "        vertical-align: top;\n",
       "    }\n",
       "\n",
       "    .dataframe thead th {\n",
       "        text-align: right;\n",
       "    }\n",
       "</style>\n",
       "<table border=\"1\" class=\"dataframe\">\n",
       "  <thead>\n",
       "    <tr style=\"text-align: right;\">\n",
       "      <th></th>\n",
       "      <th>num_present</th>\n",
       "      <th>num_missing</th>\n",
       "      <th>mean</th>\n",
       "      <th>sum</th>\n",
       "      <th>std_dev</th>\n",
       "      <th>min</th>\n",
       "      <th>max</th>\n",
       "    </tr>\n",
       "  </thead>\n",
       "  <tbody>\n",
       "    <tr>\n",
       "      <th>valor_gasto</th>\n",
       "      <td>2001</td>\n",
       "      <td>0</td>\n",
       "      <td>5.117489e+05</td>\n",
       "      <td>1.024009e+09</td>\n",
       "      <td>1.646744e+05</td>\n",
       "      <td>6.327019e+04</td>\n",
       "      <td>1.855736e+06</td>\n",
       "    </tr>\n",
       "    <tr>\n",
       "      <th>edad</th>\n",
       "      <td>2001</td>\n",
       "      <td>0</td>\n",
       "      <td>4.135732e+01</td>\n",
       "      <td>8.275600e+04</td>\n",
       "      <td>1.103557e+01</td>\n",
       "      <td>2.000000e+01</td>\n",
       "      <td>7.600000e+01</td>\n",
       "    </tr>\n",
       "    <tr>\n",
       "      <th>salario</th>\n",
       "      <td>2001</td>\n",
       "      <td>0</td>\n",
       "      <td>2.748007e+06</td>\n",
       "      <td>5.498762e+09</td>\n",
       "      <td>2.137670e+06</td>\n",
       "      <td>1.401100e+06</td>\n",
       "      <td>2.866000e+07</td>\n",
       "    </tr>\n",
       "    <tr>\n",
       "      <th>edad_salario</th>\n",
       "      <td>2001</td>\n",
       "      <td>0</td>\n",
       "      <td>1.170405e+08</td>\n",
       "      <td>2.341981e+11</td>\n",
       "      <td>1.057293e+08</td>\n",
       "      <td>3.080000e+07</td>\n",
       "      <td>1.518000e+09</td>\n",
       "    </tr>\n",
       "  </tbody>\n",
       "</table>\n",
       "</div>"
      ],
      "text/plain": [
       "              num_present  num_missing          mean           sum  \\\n",
       "valor_gasto          2001            0  5.117489e+05  1.024009e+09   \n",
       "edad                 2001            0  4.135732e+01  8.275600e+04   \n",
       "salario              2001            0  2.748007e+06  5.498762e+09   \n",
       "edad_salario         2001            0  1.170405e+08  2.341981e+11   \n",
       "\n",
       "                   std_dev           min           max  \n",
       "valor_gasto   1.646744e+05  6.327019e+04  1.855736e+06  \n",
       "edad          1.103557e+01  2.000000e+01  7.600000e+01  \n",
       "salario       2.137670e+06  1.401100e+06  2.866000e+07  \n",
       "edad_salario  1.057293e+08  3.080000e+07  1.518000e+09  "
      ]
     },
     "metadata": {},
     "output_type": "display_data"
    },
    {
     "data": {
      "image/png": "[encoded data removed]",
      "text/plain": [
       "<Figure size 1440x288 with 5 Axes>"
      ]
     },
     "metadata": {
      "needs_background": "light"
     },
     "output_type": "display_data"
    }
   ],
   "source": [
    "mu.show_distributions(features, feature_baselines)"
   ]
  },
  {
   "cell_type": "code",
   "execution_count": null,
   "metadata": {},
   "outputs": [],
   "source": []
  }
 ],
 "metadata": {
  "instance_type": "ml.t3.medium",
  "kernelspec": {
   "display_name": "Python 3 (Data Science)",
   "language": "python",
   "name": "python3__SAGEMAKER_INTERNAL__arn:aws:sagemaker:us-east-1:081325390199:image/datascience-1.0"
  },
  "language_info": {
   "codemirror_mode": {
    "name": "ipython",
    "version": 3
   },
   "file_extension": ".py",
   "mimetype": "text/x-python",
   "name": "python",
   "nbconvert_exporter": "python",
   "pygments_lexer": "ipython3",
   "version": "3.7.6"
  }
 },
 "nbformat": 4,
 "nbformat_minor": 4
}
