{
 "cells": [
  {
   "cell_type": "code",
   "execution_count": 16,
   "metadata": {},
   "outputs": [],
   "source": [
    "import sagemaker\n",
    "import boto3\n",
    "from sagemaker.amazon.amazon_estimator import get_image_uri\n",
    "from sagemaker import get_execution_role"
   ]
  },
  {
   "cell_type": "code",
   "execution_count": null,
   "metadata": {},
   "outputs": [],
   "source": [
    "role = get_execution_role() #get_execution_role recupera el rol de IAM que creó durante la creación de la instancia de notebooks\n",
    "region = boto3.Session().region_name\n",
    "bucket= 'lbk-analytics-dev' # Replace with your s3 bucket name\n",
    "prefix = 'sagemaker/xgboost-mnist' # Used as part of the path in the bucket where you store data\n",
    "bucket_path = 'https://lbk-analytics-dev.s3.amazonaws.com'"
   ]
  },
  {
   "cell_type": "code",
   "execution_count": null,
   "metadata": {},
   "outputs": [],
   "source": [
    "container = get_image_uri(boto3.Session().region_name, 'xgboost' , '1.0-1')"
   ]
  },
  {
   "cell_type": "code",
   "execution_count": null,
   "metadata": {},
   "outputs": [],
   "source": [
    "#Ensure that the train and validation data folders generated above are reflected in the \"InputDataConfig\" parameter below.\n",
    "common_training_params = \\\n",
    "{\n",
    "    \"AlgorithmSpecification\" : {\n",
    "        \"TrainingImage\" : container,\n",
    "        \"TrainingInputMode\" : \"File\"\n",
    "    },\n",
    "    \"RoleArn\" : role,\n",
    "    \"OutputDataConfig\" : {\n",
    "        \"S3OutputPath\" : bucket_path + \"/\" + prefix + \"/xgboost\"\n",
    "    },\n",
    "    \"ResourceConfig\" : {\n",
    "        \"InstanceCount\" : 1 ,\n",
    "        \"InstanceType\" : \"ml.m4.xlarge\" ,\n",
    "        \"VolumeSizeInGB\" : 5\n",
    "    },\n",
    "    \"HyperParameters\" : {\n",
    "        \"max_depth\" : \"5\" ,\n",
    "        \"eta\" : \"0.2\" ,\n",
    "        \"gamma\" : \"4\" ,\n",
    "        \"min_child_weight\" : \"6\" ,\n",
    "        \"silent\" : \"0\" ,\n",
    "        \"objective\" : \"multi:softmax\" ,\n",
    "        \"num_class\" : \"10\" ,\n",
    "        \"num_round\" : \"10\"\n",
    "    },\n",
    "    \"StoppingCondition\" : {\n",
    "        \"MaxRuntimeInSeconds\" : 86400\n",
    "    },\n",
    "    \"InputDataConfig\" : [\n",
    "        {\n",
    "            \"ChannelName\" : \"train\" ,\n",
    "            \"DataSource\" : {\n",
    "                \"S3DataSource\" : {\n",
    "                    \"S3DataType\" : \"S3Prefix\" ,\n",
    "                    \"S3Uri\" : bucket_path + \"/\" + prefix+ '/train/' ,\n",
    "                    \"S3DataDistributionType\" : \"FullyReplicated\"\n",
    "                }\n",
    "            },\n",
    "            \"ContentType\" : \"text/csv\" ,\n",
    "            \"CompressionType\" : \"None\"\n",
    "        },\n",
    "        {\n",
    "            \"ChannelName\" : \"validation\" ,\n",
    "            \"DataSource\" : {\n",
    "                \"S3DataSource\" : {\n",
    "                    \"S3DataType\" : \"S3Prefix\" ,\n",
    "                    \"S3Uri\" : bucket_path + \"/\" + prefix+ '/validation/' ,\n",
    "                    \"S3DataDistributionType\" : \"FullyReplicated\"\n",
    "                }\n",
    "            },\n",
    "            \"ContentType\" : \"text/csv\" ,\n",
    "            \"CompressionType\" : \"None\"\n",
    "        }\n",
    "    ]\n",
    "}"
   ]
  },
  {
   "cell_type": "code",
   "execution_count": null,
   "metadata": {},
   "outputs": [],
   "source": [
    "#training job params\n",
    "training_job_name = 'sagemaker-xgboost-' + strftime( \"%Y-%m-%d-%H-%M-%S\" ,gmtime())\n",
    "print( \"Job name is:\" , training_job_name)\n",
    "training_job_params = copy.deepcopy(common_training_params)\n",
    "training_job_params[ 'TrainingJobName' ] = training_job_name\n",
    "training_job_params[ 'ResourceConfig' ][ 'InstanceCount' ] = 1"
   ]
  },
  {
   "cell_type": "code",
   "execution_count": 15,
   "metadata": {},
   "outputs": [
    {
     "name": "stderr",
     "output_type": "stream",
     "text": [
      "'s3_input' class will be renamed to 'TrainingInput' in SageMaker Python SDK v2.\n",
      "'s3_input' class will be renamed to 'TrainingInput' in SageMaker Python SDK v2.\n"
     ]
    },
    {
     "name": "stdout",
     "output_type": "stream",
     "text": [
      "2020-07-28 23:55:20 Starting - Starting the training job...\n",
      "2020-07-28 23:55:23 Starting - Launching requested ML instances......\n",
      "2020-07-28 23:56:41 Starting - Preparing the instances for training......\n",
      "2020-07-28 23:57:43 Downloading - Downloading input data......\n",
      "2020-07-28 23:58:52 Training - Downloading the training image...\n",
      "2020-07-28 23:59:11 Training - Training image download completed. Training in progress.\u001b[34mINFO:sagemaker-containers:Imported framework sagemaker_xgboost_container.training\u001b[0m\n",
      "\u001b[34mINFO:sagemaker-containers:Failed to parse hyperparameter objective value multi:softmax to Json.\u001b[0m\n",
      "\u001b[34mReturning the value itself\u001b[0m\n",
      "\u001b[34mINFO:sagemaker-containers:No GPUs detected (normal if no gpus installed)\u001b[0m\n",
      "\u001b[34mINFO:sagemaker_xgboost_container.training:Running XGBoost Sagemaker in algorithm mode\u001b[0m\n",
      "\u001b[34mINFO:root:Determined delimiter of CSV input is ','\u001b[0m\n",
      "\u001b[34mINFO:root:Determined delimiter of CSV input is ','\u001b[0m\n",
      "\u001b[34mINFO:root:Determined delimiter of CSV input is ','\u001b[0m\n",
      "\u001b[34mINFO:root:Determined delimiter of CSV input is ','\u001b[0m\n",
      "\u001b[34mINFO:root:Determined delimiter of CSV input is ','\u001b[0m\n",
      "\u001b[34m[23:59:30] 100000x784 matrix with 78400000 entries loaded from /opt/ml/input/data/train?format=csv&label_column=0&delimiter=,\u001b[0m\n",
      "\u001b[34mINFO:root:Determined delimiter of CSV input is ','\u001b[0m\n",
      "\u001b[34m[23:59:34] 20000x784 matrix with 15680000 entries loaded from /opt/ml/input/data/validation?format=csv&label_column=0&delimiter=,\u001b[0m\n",
      "\u001b[34mINFO:root:Single node training.\u001b[0m\n",
      "\u001b[34mINFO:root:Train matrix has 100000 rows\u001b[0m\n",
      "\u001b[34mINFO:root:Validation matrix has 20000 rows\u001b[0m\n",
      "\u001b[34m[23:59:34] WARNING: /workspace/src/learner.cc:328: \u001b[0m\n",
      "\u001b[34mParameters: { num_round, silent } might not be used.\n",
      "\n",
      "  This may not be accurate due to some parameters are only used in language bindings but\n",
      "  passed down to XGBoost core.  Or some parameters are not used but slip through this\n",
      "  verification. Please open an issue if you find above cases.\n",
      "\n",
      "\u001b[0m\n",
      "\u001b[34m[0]#011train-merror:0.16946#011validation-merror:0.16520\u001b[0m\n",
      "\u001b[34m[1]#011train-merror:0.12418#011validation-merror:0.12660\u001b[0m\n",
      "\u001b[34m[2]#011train-merror:0.11114#011validation-merror:0.11360\u001b[0m\n",
      "\u001b[34m[3]#011train-merror:0.09892#011validation-merror:0.10360\u001b[0m\n",
      "\u001b[34m[4]#011train-merror:0.09090#011validation-merror:0.09570\u001b[0m\n",
      "\u001b[34m[5]#011train-merror:0.08436#011validation-merror:0.09060\u001b[0m\n",
      "\u001b[34m[6]#011train-merror:0.08000#011validation-merror:0.08690\u001b[0m\n",
      "\u001b[34m[7]#011train-merror:0.07510#011validation-merror:0.08290\u001b[0m\n",
      "\n",
      "2020-07-29 00:01:46 Uploading - Uploading generated training model\n",
      "2020-07-29 00:01:46 Completed - Training job completed\n",
      "\u001b[34m[8]#011train-merror:0.07152#011validation-merror:0.07980\u001b[0m\n",
      "\u001b[34m[9]#011train-merror:0.06802#011validation-merror:0.07760\u001b[0m\n",
      "Training seconds: 243\n",
      "Billable seconds: 243\n"
     ]
    }
   ],
   "source": [
    "%%time\n",
    "region = boto3.Session().region_name\n",
    "sm = boto3.Session().client( 'sagemaker' )\n",
    "sm.create_training_job(**training_job_params)\n",
    "status = sm.describe_training_job(TrainingJobName=training_job_name)[ 'TrainingJobStatus' ]\n",
    "print(status)\n",
    "sm.get_waiter( 'training_job_completed_or_stopped' ).wait(TrainingJobName=training_job_name)\n",
    "status =sm.describe_training_job(TrainingJobName=training_job_name)[ 'TrainingJobStatus' ]\n",
    "print( \"Training job ended with status: \" + status)\n",
    "if status == 'Failed' :\n",
    "    message =sm.describe_training_job(TrainingJobName=training_job_name)[ 'FailureReason' ]\n",
    "    print( 'Training failed with the following error:{}' .format(message))\n",
    "    raise Exception( 'Training job failed' )\n"
   ]
  },
  {
   "cell_type": "code",
   "execution_count": null,
   "metadata": {},
   "outputs": [],
   "source": []
  }
 ],
 "metadata": {
  "kernelspec": {
   "display_name": "conda_python3",
   "language": "python",
   "name": "conda_python3"
  },
  "language_info": {
   "codemirror_mode": {
    "name": "ipython",
    "version": 3
   },
   "file_extension": ".py",
   "mimetype": "text/x-python",
   "name": "python",
   "nbconvert_exporter": "python",
   "pygments_lexer": "ipython3",
   "version": "3.6.10"
  }
 },
 "nbformat": 4,
 "nbformat_minor": 4
}
