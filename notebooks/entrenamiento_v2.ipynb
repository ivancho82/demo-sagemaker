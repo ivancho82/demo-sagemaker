{
 "cells": [
  {
   "cell_type": "markdown",
   "metadata": {},
   "source": [
    "# Crear y ejecutar un trabajo de entrenamiento (AWS SDK para Python (Boto 3))\n",
    "\n",
    "Para capacitar un modelo, Amazon SageMaker utiliza la API de CreateTrainingJob . El AWS SDK para Python (Boto 3) proporciona el método create_training_job correspondiente."
   ]
  },
  {
   "cell_type": "code",
   "execution_count": 28,
   "metadata": {},
   "outputs": [],
   "source": [
    "%%time\n",
    "import sagemaker\n",
    "import boto3\n",
    "import copy\n",
    "import time\n",
    "from time import gmtime, strftime\n",
    "from sagemaker.amazon.amazon_estimator import get_image_uri\n",
    "from sagemaker import get_execution_role"
   ]
  },
  {
   "cell_type": "code",
   "execution_count": 21,
   "metadata": {},
   "outputs": [],
   "source": [
    "role = get_execution_role() #get_execution_role recupera el rol de IAM que creó durante la creación de la instancia de notebooks\n",
    "region = boto3.Session().region_name\n",
    "bucket= 'lbk-analytics-dev' # Replace with your s3 bucket name\n",
    "prefix = 'sagemaker/xgboost-mnist' # Used as part of the path in the bucket where you store data\n",
    "bucket_path = 'https://lbk-analytics-dev.s3.amazonaws.com'"
   ]
  },
  {
   "cell_type": "code",
   "execution_count": 22,
   "metadata": {},
   "outputs": [
    {
     "name": "stderr",
     "output_type": "stream",
     "text": [
      "'get_image_uri' method will be deprecated in favor of 'ImageURIProvider' class in SageMaker Python SDK v2.\n"
     ]
    }
   ],
   "source": [
    "container = get_image_uri(boto3.Session().region_name, 'xgboost' , '1.0-1')"
   ]
  },
  {
   "cell_type": "code",
   "execution_count": 23,
   "metadata": {},
   "outputs": [],
   "source": [
    "#Ensure that the train and validation data folders generated above are reflected in the \"InputDataConfig\" parameter below.\n",
    "common_training_params = \\\n",
    "{\n",
    "    \"AlgorithmSpecification\" : {\n",
    "        \"TrainingImage\" : container,\n",
    "        \"TrainingInputMode\" : \"File\"\n",
    "    },\n",
    "    \"RoleArn\" : role,\n",
    "    \"OutputDataConfig\" : {\n",
    "        \"S3OutputPath\" : bucket_path + \"/\" + prefix + \"/xgboost\"\n",
    "    },\n",
    "    \"ResourceConfig\" : {\n",
    "        \"InstanceCount\" : 1 ,\n",
    "        \"InstanceType\" : \"ml.m4.xlarge\" ,\n",
    "        \"VolumeSizeInGB\" : 5\n",
    "    },\n",
    "    \"HyperParameters\" : {\n",
    "        \"max_depth\" : \"5\" ,\n",
    "        \"eta\" : \"0.2\" ,\n",
    "        \"gamma\" : \"4\" ,\n",
    "        \"min_child_weight\" : \"6\" ,\n",
    "        \"silent\" : \"0\" ,\n",
    "        \"objective\" : \"multi:softmax\" ,\n",
    "        \"num_class\" : \"10\" ,\n",
    "        \"num_round\" : \"10\"\n",
    "    },\n",
    "    \"StoppingCondition\" : {\n",
    "        \"MaxRuntimeInSeconds\" : 86400\n",
    "    },\n",
    "    \"InputDataConfig\" : [\n",
    "        {\n",
    "            \"ChannelName\" : \"train\" ,\n",
    "            \"DataSource\" : {\n",
    "                \"S3DataSource\" : {\n",
    "                    \"S3DataType\" : \"S3Prefix\" ,\n",
    "                    \"S3Uri\" : bucket_path + \"/\" + prefix+ '/train/' ,\n",
    "                    \"S3DataDistributionType\" : \"FullyReplicated\"\n",
    "                }\n",
    "            },\n",
    "            \"ContentType\" : \"text/csv\" ,\n",
    "            \"CompressionType\" : \"None\"\n",
    "        },\n",
    "        {\n",
    "            \"ChannelName\" : \"validation\" ,\n",
    "            \"DataSource\" : {\n",
    "                \"S3DataSource\" : {\n",
    "                    \"S3DataType\" : \"S3Prefix\" ,\n",
    "                    \"S3Uri\" : bucket_path + \"/\" + prefix+ '/validation/' ,\n",
    "                    \"S3DataDistributionType\" : \"FullyReplicated\"\n",
    "                }\n",
    "            },\n",
    "            \"ContentType\" : \"text/csv\" ,\n",
    "            \"CompressionType\" : \"None\"\n",
    "        }\n",
    "    ]\n",
    "}"
   ]
  },
  {
   "cell_type": "code",
   "execution_count": 29,
   "metadata": {},
   "outputs": [
    {
     "name": "stdout",
     "output_type": "stream",
     "text": [
      "Job name is: sagemaker-xgboost-2020-07-29-15-26-22\n"
     ]
    }
   ],
   "source": [
    "#training job params\n",
    "training_job_name = 'sagemaker-xgboost-' + strftime( \"%Y-%m-%d-%H-%M-%S\" ,gmtime())\n",
    "print( \"Job name is:\" , training_job_name)\n",
    "training_job_params = copy.deepcopy(common_training_params)\n",
    "training_job_params[ 'TrainingJobName' ] = training_job_name\n",
    "training_job_params[ 'ResourceConfig' ][ 'InstanceCount' ] = 1"
   ]
  },
  {
   "cell_type": "code",
   "execution_count": 30,
   "metadata": {},
   "outputs": [
    {
     "name": "stdout",
     "output_type": "stream",
     "text": [
      "InProgress\n",
      "Training job ended with status: Completed\n",
      "CPU times: user 305 ms, sys: 0 ns, total: 305 ms\n",
      "Wall time: 8min 1s\n"
     ]
    }
   ],
   "source": [
    "%%time\n",
    "region = boto3.Session().region_name\n",
    "sm = boto3.Session().client( 'sagemaker' )\n",
    "sm.create_training_job(**training_job_params)\n",
    "status = sm.describe_training_job(TrainingJobName=training_job_name)[ 'TrainingJobStatus' ]\n",
    "print(status)\n",
    "sm.get_waiter( 'training_job_completed_or_stopped' ).wait(TrainingJobName=training_job_name)\n",
    "status =sm.describe_training_job(TrainingJobName=training_job_name)[ 'TrainingJobStatus' ]\n",
    "print( \"Training job ended with status: \" + status)\n",
    "if status == 'Failed' :\n",
    "    message =sm.describe_training_job(TrainingJobName=training_job_name)[ 'FailureReason' ]\n",
    "    print( 'Training failed with the following error:{}' .format(message))\n",
    "    raise Exception( 'Training job failed' )\n"
   ]
  },
  {
   "cell_type": "markdown",
   "metadata": {},
   "source": [
    "# Implementar el modelo en los servicios de alojamiento de Amazon SageMaker (AWS SDK para Python (Boto3).)\n",
    "\n",
    "1. Crear un modelo en Amazon SageMaker: envíe una solicitud CreateModel para proporcionar información como la ubicación del bucket de S3 que contiene sus artefactos de modelos y la ruta  de registro de la imagen que contiene el código de inferencia.\n",
    "2. Crear una configuración de punto de enlace: envíe una solicitud CreateEndpointConfig para proporcionar la configuración de recursos para el alojamiento. Esto incluye el tipo y el  número de instancias de computación de aprendizaje automático que lanzar para la implementación del modelo.\n",
    "3. Crear un punto de enlace: envíe una solicitud CreateEndpoint para crear un punto de enlace. Amazon SageMaker lanza las instancias de computación de aprendizaje automático e implementa el modelo. Amazon SageMaker devuelve un punto de enlace Las aplicaciones pueden enviar solicitudes a este punto de enlace para obtener inferencias."
   ]
  },
  {
   "cell_type": "code",
   "execution_count": null,
   "metadata": {},
   "outputs": [],
   "source": [
    "model_name = training_job_name + '-mod'\n",
    "info = sm.describe_training_job(TrainingJobName=training_job_name)\n",
    "model_data = info[ 'ModelArtifacts' ][ 'S3ModelArtifacts' ]\n",
    "print(model_data)\n",
    "primary_container = {\n",
    "    'Image' : container,\n",
    "    'ModelDataUrl' : model_data\n",
    "}\n",
    "\n",
    "create_model_response = sm.create_model(\n",
    "    ModelName = model_name,\n",
    "    ExecutionRoleArn = role,\n",
    "    PrimaryContainer = primary_container)\n",
    "\n",
    "print(create_model_response[ 'ModelArn' ])"
   ]
  },
  {
   "cell_type": "code",
   "execution_count": null,
   "metadata": {},
   "outputs": [],
   "source": [
    "endpoint_config_name = 'DEMO-XGBoostEndpointConfig-' + strftime( \"%Y-%m-%d-%H-%M-%S\" , gmtime())\n",
    "print(endpoint_config_name)\n",
    "create_endpoint_config_response = sm.create_endpoint_config(\n",
    "    EndpointConfigName = endpoint_config_name,\n",
    "    ProductionVariants=[{\n",
    "        'InstanceType' : 'ml.m4.xlarge' ,\n",
    "        'InitialVariantWeight' : 1 ,\n",
    "        'InitialInstanceCount' : 1 ,\n",
    "        'ModelName' :model_name,\n",
    "        'VariantName' : 'AllTraffic' }])\n",
    "\n",
    "print( \"Endpoint Config Arn: \" + create_endpoint_config_response[ 'EndpointConfigArn' ])"
   ]
  },
  {
   "cell_type": "code",
   "execution_count": null,
   "metadata": {},
   "outputs": [],
   "source": [
    "%%time\n",
    "\n",
    "endpoint_name = 'DEMO-XGBoostEndpoint-' + strftime( \"%Y-%m-%d-%H-%M-%S\" ,gmtime())\n",
    "print(endpoint_name)\n",
    "create_endpoint_response = sm.create_endpoint(\n",
    "    EndpointName=endpoint_name,\n",
    "    EndpointConfigName=endpoint_config_name)\n",
    "\n",
    "print(create_endpoint_response[ 'EndpointArn' ])\n",
    "resp = sm.describe_endpoint(EndpointName=endpoint_name)\n",
    "status = resp[ 'EndpointStatus' ]\n",
    "print( \"Status: \" + status)\n",
    "while status== 'Creating' :\n",
    "    time.sleep( 60 )\n",
    "    resp = sm.describe_endpoint(EndpointName=endpoint_name)\n",
    "    status = resp[ 'EndpointStatus' ]\n",
    "    print( \"Status: \" + status)\n",
    "    \n",
    "print( \"Arn: \" + resp[ 'EndpointArn' ])\n",
    "print( \"Status: \" + status)"
   ]
  },
  {
   "cell_type": "markdown",
   "metadata": {},
   "source": [
    "# Implementar un modelo con la transformación por lotes (SDK para Python (Boto 3))\n",
    "Para crear un trabajo de transformación por lotes (SDK para Python (Boto 3)) Asigne un nombre al trabajo de transformación por lotes y especifique dónde se almacenan los datos de entrada (el conjunto de la prueba) y dónde se almacena el resultado del trabajo."
   ]
  },
  {
   "cell_type": "code",
   "execution_count": null,
   "metadata": {},
   "outputs": [],
   "source": [
    "batch_job_name = 'xgboost-mnist-batch' + strftime( \"%Y-%m-%d-%H-%M-%S\" , gmtime())\n",
    "batch_input = 's3://{}/{}/test/examples' .format(bucket, prefix)\n",
    "\n",
    "print(batch_input)\n",
    "batch_output = 's3://{}/{}/batch-inference' .format(bucket, prefix)"
   ]
  },
  {
   "cell_type": "code",
   "execution_count": null,
   "metadata": {},
   "outputs": [],
   "source": [
    "request = \\\n",
    "{\n",
    "    \"TransformJobName\" : batch_job_name,\n",
    "    \"ModelName\" : model_name,\n",
    "    \"BatchStrategy\" : \"MultiRecord\" ,\n",
    "    \"TransformOutput\" : {\n",
    "        \"S3OutputPath\" : batch_output\n",
    "    },\n",
    "    \"TransformInput\" : {\n",
    "        \"DataSource\" : {\n",
    "            \"S3DataSource\" : {\n",
    "                \"S3DataType\" : \"S3Prefix\" ,\n",
    "                \"S3Uri\" : batch_input\n",
    "            }\n",
    "        },\n",
    "        \"ContentType\" : \"text/csv\" ,\n",
    "        \"SplitType\" : \"Line\" ,\n",
    "        \"CompressionType\" : \"None\"\n",
    "    },\n",
    "    \"TransformResources\" : {\n",
    "        \"InstanceType\" : \"ml.m4.xlarge\" ,\n",
    "        \"InstanceCount\" : 1\n",
    "    }\n",
    "}"
   ]
  },
  {
   "cell_type": "code",
   "execution_count": null,
   "metadata": {},
   "outputs": [],
   "source": [
    "sm.create_transform_job(**request)\n",
    "while ( True ):\n",
    "    response = sm.describe_transform_job(TransformJobName=batch_job_name)\n",
    "    status = response[ 'TransformJobStatus' ]\n",
    "    if status == 'Completed' :\n",
    "        print( \"Transform job ended with status: \" + status)\n",
    "        break\n",
    "    if status == 'Failed' :\n",
    "        message = response[ 'FailureReason' ]\n",
    "        print( 'Transform failed with the following error:{}' .format(message))\n",
    "        raise Exception( 'Transform job failed' )\n",
    "    print( \"Transform job is still in status: \" + status)\n",
    "    time.sleep( 30 )"
   ]
  },
  {
   "cell_type": "code",
   "execution_count": null,
   "metadata": {},
   "outputs": [],
   "source": []
  },
  {
   "cell_type": "code",
   "execution_count": null,
   "metadata": {},
   "outputs": [],
   "source": []
  }
 ],
 "metadata": {
  "kernelspec": {
   "display_name": "conda_python3",
   "language": "python",
   "name": "conda_python3"
  },
  "language_info": {
   "codemirror_mode": {
    "name": "ipython",
    "version": 3
   },
   "file_extension": ".py",
   "mimetype": "text/x-python",
   "name": "python",
   "nbconvert_exporter": "python",
   "pygments_lexer": "ipython3",
   "version": "3.6.10"
  }
 },
 "nbformat": 4,
 "nbformat_minor": 4
}
